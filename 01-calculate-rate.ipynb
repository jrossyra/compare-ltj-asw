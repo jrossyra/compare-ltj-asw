{
 "cells": [
  {
   "cell_type": "markdown",
   "metadata": {},
   "source": [
    "## <center>Calculations for simple 2-state analysis with RMSD-based transition interfaces</center>"
   ]
  },
  {
   "cell_type": "markdown",
   "metadata": {},
   "source": [
    "##### MUST SHARE KERNEL WITH NOTEBOOK `00-load-data.ipynb`"
   ]
  },
  {
   "cell_type": "markdown",
   "metadata": {},
   "source": [
    "#### 1. Setup for a small parameter sweep to find good interface placement\n",
    "\n",
    "------------------------"
   ]
  },
  {
   "cell_type": "code",
   "execution_count": 16,
   "metadata": {
    "jupyter": {
     "source_hidden": true
    },
    "tags": []
   },
   "outputs": [
    {
     "name": "stdout",
     "output_type": "stream",
     "text": [
      "\u001b[46mUsing RMSD data for transition calculations for interface [3.9, 4.4]\n"
     ]
    }
   ],
   "source": [
    "# DEFINE data organization for this analysis\n",
    "datasets = {\n",
    "    # NO UNDERSCORES in keys here\n",
    "    #  - messes up processing in calculate_observed_rates\n",
    "    label_longtraj: traj_rmsd_df[label_heavies],\n",
    "    # more : others)\n",
    "}\n",
    "\n",
    "# USER-DEFINED RMSD interfaces\n",
    "#  - look at notebook \"10-rmsd\" and pick smart numbers...\n",
    "#  - choose most-distinguishing RMSD feature\n",
    "#  - the heavy-atom RMSD has more clearly separated values than Calpha\n",
    "ifcs_2state_1 = [3.9, 4.4]\n",
    "ifcs_2state_2 = [4.1, 4.4]\n",
    "ifcs_3state = [4.1, 4.4, 5.0, 5.5]\n",
    "\n",
    "pars_2state = {\n",
    "    \"min_residence\": [1, 3, 10, 25, 50, 100, 250, 500, 1000],\n",
    "    \"interfaces\": [ifcs_2state_1, ifcs_2state_2],\n",
    "}\n",
    "\n",
    "# generate a useful identifier for each test parameter set\n",
    "parset_key = lambda parset: \"_\".join(\n",
    "    [\"{0}-{1}\".format(p, v) for p, v in parset.items()]\n",
    ")\n",
    "\n",
    "splitsteps = lambda k: k.split(\"-\")[-2].split(\"_\")[0]\n",
    "parsets = aswa_tools.mix_parameters(pars_2state)\n",
    "\n",
    "print(\n",
    "    colorama.Back.CYAN\n",
    "    + \"Using RMSD data for transition calculations for interface {}\".format(\n",
    "        ifcs_2state_1\n",
    "    )\n",
    ")"
   ]
  },
  {
   "cell_type": "markdown",
   "metadata": {},
   "source": [
    "#### 2. Helpers for saving rate along incremented trajectory, transitions in certain increment of trajectory\n",
    "----------------------------"
   ]
  },
  {
   "cell_type": "code",
   "execution_count": 17,
   "metadata": {
    "jupyter": {
     "source_hidden": true
    }
   },
   "outputs": [
    {
     "name": "stdout",
     "output_type": "stream",
     "text": [
      "\u001b[46mData will be collected in 200-step increments on the trajectory data\n"
     ]
    }
   ],
   "source": [
    "incr_length = 200\n",
    "print(\n",
    "    colorama.Back.CYAN\n",
    "    + \"Data will be collected in %d-step increments on the trajectory data\"\n",
    "    % incr_length\n",
    ")\n",
    "\n",
    "_n_incr = lambda data, incr_length: int(\n",
    "    (len(data) / incr_length) + int(bool(len(data) % incr_length))\n",
    ")\n",
    "\n",
    "n_incr = {dk: _n_incr(datasets[dk], incr_length) for dk in datasets}\n",
    "\n",
    "# FOR FINDING transitions that occurred between some step numbers i1 and i2\n",
    "_is_between = lambda v, i1, i2: v > i1 and v < i2\n",
    "_max_under = lambda td, i1, i2: max(\n",
    "    [i + 1 if _is_between(fn, i1, i2) else -1 for i, fn in enumerate(td)]\n",
    ")\n",
    "_min_over = lambda td, i1, i2: min(\n",
    "    [i if _is_between(fn, i1, i2) else len(td) for i, fn in enumerate(td)]\n",
    ")\n",
    "_relevant_transitions = lambda td, i1, i2: td[\n",
    "    _min_over(td, i1, i2) : _max_under(td, i1, i2)\n",
    "]"
   ]
  },
  {
   "cell_type": "markdown",
   "metadata": {},
   "source": [
    "#### 3. Helpers for later when plotting rate plots\n",
    "------------"
   ]
  },
  {
   "cell_type": "code",
   "execution_count": 18,
   "metadata": {
    "jupyter": {
     "source_hidden": true
    }
   },
   "outputs": [],
   "source": [
    "# This stuff makes complicated plot...\n",
    "# Values to help with extra plot objects\n",
    "i_frame = 6000\n",
    "n_frames = 9000\n",
    "interfacecolor = \"ghostwhite\"\n",
    "shading_min = 0.2\n",
    "shading_max = 8\n",
    "arrow_linewidth = 6\n",
    "arrow_length = 0.4\n",
    "\n",
    "timeseriescolor = [\n",
    "    r + s for r, s in zip(matplotlib.colors.to_rgba(\"darkcyan\"), (0.25, 0.25, 0.25, 0))\n",
    "]"
   ]
  },
  {
   "cell_type": "markdown",
   "metadata": {},
   "source": [
    "-------------\n",
    "-------------\n",
    "\n",
    "#### 4. CALCULATE Timepoints with State Transitions AND the Discrete (state) Trajectories\n",
    "--------------"
   ]
  },
  {
   "cell_type": "code",
   "execution_count": 19,
   "metadata": {
    "jupyter": {
     "source_hidden": true
    }
   },
   "outputs": [
    {
     "name": "stdout",
     "output_type": "stream",
     "text": [
      "\u001b[46mCalculating transition locations\n",
      "Creating the discrete-state trajectories using transition locations\n",
      "The 'best' data for analysis is currently set\n",
      "to the transitions ID'd using these parameters:\n",
      "\u001b[49m\u001b[94mSingle Trajectory_min_residence-100_interfaces-[3.9, 4.4]\n"
     ]
    }
   ],
   "source": [
    "def print_colorama(message, cformat):\n",
    "    if len(cformat < 1):\n",
    "        print(\"Why not just print plain\")\n",
    "    if len(cformat) == 1:\n",
    "        target = []\n",
    "        # TODO FIXME USEME and bring to front!!\n",
    "\n",
    "\n",
    "print(colorama.Back.CYAN + \"Calculating transition locations\")\n",
    "# DATA WILL BE STORED HERE\n",
    "# THIS ONE TRACKS THE BEST TRANSITION POINTS FOR LATER CALCULATIONS\n",
    "transition_data = dict()  # pandas.DataFrame()\n",
    "\n",
    "for dataname, dataset in datasets.items():\n",
    "\n",
    "    # display(\"On to dataset: %s\"%dataname)\n",
    "\n",
    "    parnames, parset = list(zip(*parsets.items()))\n",
    "\n",
    "    for pars in zip(*parset):\n",
    "\n",
    "        # display(\"Using parameters: {}\".format(pars))\n",
    "\n",
    "        _pars = {k: v for k, v in list(zip(parnames, pars))}\n",
    "\n",
    "        transition_data[dataname + \"_\" + parset_key(_pars)] = [\n",
    "            aswa_tools.count_changes(dataset, **_pars)\n",
    "        ]\n",
    "\n",
    "    # clear_output(wait=True)\n",
    "\n",
    "# THIS ONE TRACKS THE STATE WHERE IT WAS DETERMINED A TRANSITION HAPPENED\n",
    "# which isn't useful in practice...\n",
    "_transition_data = dict()  # pandas.DataFrame()\n",
    "\n",
    "for dataname, dataset in datasets.items():\n",
    "    parnames, parset = list(zip(*parsets.items()))\n",
    "    for pars in zip(*parset):\n",
    "        _pars = {k: v for k, v in list(zip(parnames, pars))}\n",
    "        parkey = dataname + \"_\" + parset_key(_pars)\n",
    "        _pars.update(dict(use_initial_entry=False))\n",
    "        _transition_data[parkey] = [aswa_tools.count_changes(dataset, **_pars)]\n",
    "\n",
    "lookatme = \"Single Trajectory_min_residence-50_interfaces-[4.0, 4.4]\"\n",
    "\n",
    "print(\"Creating the discrete-state trajectories using transition locations\")\n",
    "# DTRAJS\n",
    "the_dtrajs = {\n",
    "    dataname: aswa_tools.dtraj_from_changepoints(\n",
    "        transition_data[dataname], traj_rmsd_df[label_timesteps].shape[0]\n",
    "    )\n",
    "    for dataname in transition_data\n",
    "}\n",
    "\n",
    "# THIS WAS FOUND OUT BY INSPECTION AND ADDED POST-FACTO\n",
    "bestone = match_keys(match_keys(list(the_dtrajs), \"100_\"), \"3.9\")[0]\n",
    "print(\"The 'best' data for analysis is currently set\")\n",
    "print(\"to the transitions ID'd using these parameters:\")\n",
    "print(colorama.Back.RESET + colorama.Fore.LIGHTBLUE_EX + \"%s\" % bestone)"
   ]
  },
  {
   "cell_type": "markdown",
   "metadata": {},
   "source": [
    "#### 5. CALCULATE Observed Event Frequencies\n",
    "----------------"
   ]
  },
  {
   "cell_type": "code",
   "execution_count": 20,
   "metadata": {
    "jupyter": {
     "source_hidden": true
    }
   },
   "outputs": [
    {
     "name": "stdout",
     "output_type": "stream",
     "text": [
      "\u001b[46mcalculating observed rate of events from each set of transitions\n",
      "aligning timestamps to get a nice axis with MD time vs. rate w/ units: Time [μs]\n"
     ]
    }
   ],
   "source": [
    "print(\n",
    "    colorama.Back.CYAN\n",
    "    + \"calculating observed rate of events from each set of transitions\"\n",
    ")\n",
    "# Simple: Total observations / Total MD time\n",
    "observed_rates = aswa_tools.calculate_observed_rates(\n",
    "    transition_data, incr_length, n_incr, step_per_ns\n",
    ")\n",
    "\n",
    "print(\n",
    "    \"aligning timestamps to get a nice axis with MD time vs. rate w/ units: %s\"\n",
    "    % label_timesteps\n",
    ")\n",
    "observed_rates.update(\n",
    "    {\n",
    "        label_timesteps: {\n",
    "            dk: pandas.Series(\n",
    "                [ni * incr_length / step_per_ns[dk] / 1000 for ni in range(n_incr[dk])]\n",
    "            )\n",
    "            for dk in datasets\n",
    "        }\n",
    "    }\n",
    ")\n",
    "\n",
    "longtraj_2states = match_keys(match_keys(observed_rates, label_longtraj), \"3.9, 4.4\")"
   ]
  },
  {
   "cell_type": "markdown",
   "metadata": {},
   "source": [
    "#### $\\infty$ DONE\n",
    "-------"
   ]
  },
  {
   "cell_type": "code",
   "execution_count": 21,
   "metadata": {},
   "outputs": [
    {
     "name": "stdout",
     "output_type": "stream",
     "text": [
      "\u001b[100m\u001b[34m  DONE LOADING DATA  \n"
     ]
    }
   ],
   "source": [
    "print(f\"{dn1}  DONE LOADING DATA  \")"
   ]
  },
  {
   "cell_type": "markdown",
   "metadata": {},
   "source": [
    "--------\n",
    "--------"
   ]
  }
 ],
 "metadata": {
  "kernelspec": {
   "display_name": "Python 3",
   "language": "python",
   "name": "python3"
  },
  "language_info": {
   "codemirror_mode": {
    "name": "ipython",
    "version": 3
   },
   "file_extension": ".py",
   "mimetype": "text/x-python",
   "name": "python",
   "nbconvert_exporter": "python",
   "pygments_lexer": "ipython3",
   "version": "3.7.3"
  }
 },
 "nbformat": 4,
 "nbformat_minor": 4
}
