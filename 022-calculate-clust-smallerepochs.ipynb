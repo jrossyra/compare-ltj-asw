{
 "cells": [
  {
   "cell_type": "markdown",
   "metadata": {},
   "source": [
    "## <center>Clusterings in smaller epochs of the data</center>"
   ]
  },
  {
   "cell_type": "markdown",
   "metadata": {},
   "source": [
    "##### MUST SHARE KERNEL WITH NOTEBOOK `00-load-data.ipynb`"
   ]
  },
  {
   "cell_type": "markdown",
   "metadata": {},
   "source": [
    "Load tons more into memory."
   ]
  },
  {
   "cell_type": "markdown",
   "metadata": {},
   "source": [
    "#### Cluster in TICAs from growing portions of long trajectory\n",
    "------------"
   ]
  },
  {
   "cell_type": "markdown",
   "metadata": {},
   "source": [
    "##### Clustering First in TICAs from smaller datas\n",
    " - Clustering by epochsize for HMM input\n",
    " - requires 021 tica by epochsize done\n"
   ]
  },
  {
   "cell_type": "markdown",
   "metadata": {},
   "source": [
    "-------------"
   ]
  },
  {
   "cell_type": "code",
   "execution_count": null,
   "metadata": {
    "scrolled": true
   },
   "outputs": [],
   "source": [
    "clusts_todo = get_clusts_todo()\n",
    "\n",
    "for (\n",
    "    wname, disc, (_nma,nma), (_tl,tica_lag),\n",
    "    (_k,k), (_ml, msm_lag), (_hl,hmm_lag),\n",
    ") in good_ones:\n",
    "\n",
    "    if tica_lag < min_good_lag: continue\n",
    "    \n",
    "    dds = da / wname\n",
    "    dcalc = dds / \"kmeans\"\n",
    "    fcalc = dcalc / \"kmeans.pyemma\"\n",
    "    dataset = all_models[feat][wname]\n",
    "    inpbes = correctone(dataset[\"tica\"], \"lag\", tica_lag)[\"byepochsize\"]\n",
    "    setup = correctone(dataset[f\"cluster_{disc}\"], \"k\", k)\n",
    "    \n",
    "    ctd = (wname, (\"tica_lag\", tica_lag), (\"k\", k))\n",
    "    if ctd in clusts_todo:\n",
    "        clusts_todo.remove(ctd)\n",
    "        print(f\"{ts1}Doing this one:{rreset} {ctd}\")\n",
    "    else:\n",
    "        print(f\"{ms1}Already did this one:{rreset} {ctd}\")\n",
    "        assert \"byepochsize\" in setup\n",
    "        continue # have extra copies due to different hmm pars\n",
    "        \n",
    "    setup[\"byepochsize\"] = besetups = list()\n",
    "    \n",
    "    for ibes in inpbes:\n",
    "        \n",
    "        besetup = dict()\n",
    "        besetup[\"timer\"] = timer = Timer(description=True, verbose=True)\n",
    "        besetup[\"kwargs\"] = setup[\"kwargs\"]\n",
    "        besetup[\"input\"] = ibes\n",
    "        besetup[\"epochsize\"] = ibes[\"epochsize\"]\n",
    "        besetup[\"hash\"] = thisone = _thisone_kmeans(feat, besetup)\n",
    "        \n",
    "        fbes = fcalc.with_suffix(f\".{thisone}\")\n",
    "\n",
    "        if fbes.is_file():\n",
    "            with timer(yellowback+blacktxt+time_loadfile+rreset):\n",
    "                result = pyemma.load(fbes)\n",
    "                \n",
    "        else:\n",
    "            print(f\"{is1}Calculating & Saving:{rreset} {thisone}\")    \n",
    "            try:\n",
    "                inp = [np.real(ti)\n",
    "                    for ti in ibes[\"result\"].get_output(list(range(n_tica_dim)))]\n",
    "\n",
    "                with timer(yellowback+blacktxt+time_calculation+rreset):\n",
    "                    result = coor.cluster_kmeans(inp, **besetup[\"kwargs\"])\n",
    "\n",
    "                result.save(fbes, save_streaming_chain=True)\n",
    "            \n",
    "            except:\n",
    "                print(yellowback+blacktxt+\"Calculation failed!\"+rreset)\n",
    "                print(er1+traceback.format_exc()+rreset)\n",
    "                result = False\n",
    "        \n",
    "        besetup[\"result\"] = result\n",
    "        besetups.append(besetup)"
   ]
  },
  {
   "cell_type": "markdown",
   "metadata": {},
   "source": [
    "#### $\\infty$ DONE\n",
    "-------"
   ]
  },
  {
   "cell_type": "code",
   "execution_count": null,
   "metadata": {},
   "outputs": [],
   "source": [
    "print(colorama.Back.LIGHTBLACK_EX + colorama.Fore.BLUE + \"  DONE LOADING DATA  \")"
   ]
  },
  {
   "cell_type": "markdown",
   "metadata": {},
   "source": [
    "--------\n",
    "--------"
   ]
  },
  {
   "cell_type": "markdown",
   "metadata": {},
   "source": [
    "-----------"
   ]
  },
  {
   "cell_type": "markdown",
   "metadata": {},
   "source": [
    "-----------"
   ]
  },
  {
   "cell_type": "markdown",
   "metadata": {},
   "source": [
    "-----------"
   ]
  },
  {
   "cell_type": "markdown",
   "metadata": {},
   "source": [
    "-----------"
   ]
  },
  {
   "cell_type": "markdown",
   "metadata": {},
   "source": [
    "-----------"
   ]
  },
  {
   "cell_type": "markdown",
   "metadata": {},
   "source": [
    "-----------"
   ]
  },
  {
   "cell_type": "markdown",
   "metadata": {},
   "source": [
    "-----------"
   ]
  },
  {
   "cell_type": "markdown",
   "metadata": {},
   "source": [
    "-----------"
   ]
  },
  {
   "cell_type": "markdown",
   "metadata": {},
   "source": [
    "-----------"
   ]
  }
 ],
 "metadata": {
  "kernelspec": {
   "display_name": "Python 3",
   "language": "python",
   "name": "python3"
  },
  "language_info": {
   "codemirror_mode": {
    "name": "ipython",
    "version": 3
   },
   "file_extension": ".py",
   "mimetype": "text/x-python",
   "name": "python",
   "nbconvert_exporter": "python",
   "pygments_lexer": "ipython3",
   "version": "3.7.3"
  }
 },
 "nbformat": 4,
 "nbformat_minor": 4
}
