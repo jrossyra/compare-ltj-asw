{
 "cells": [
  {
   "cell_type": "markdown",
   "metadata": {},
   "source": [
    "# TICA trajectory exploration plots"
   ]
  },
  {
   "cell_type": "markdown",
   "metadata": {},
   "source": [
    "-----------"
   ]
  },
  {
   "cell_type": "markdown",
   "metadata": {},
   "source": [
    "Result showning how well the energy landscape was explored in Phase 1."
   ]
  },
  {
   "cell_type": "markdown",
   "metadata": {},
   "source": [
    "Components of Plot:\n",
    " - TICA landscape from LTJ\n",
    " - contours showing extent after each round of Phase 1 dataset"
   ]
  },
  {
   "cell_type": "code",
   "execution_count": 131,
   "metadata": {},
   "outputs": [
    {
     "data": {
      "text/plain": [
       "[('invca', 'umi_Ca_3'), ('invca', 'ltj')]"
      ]
     },
     "execution_count": 131,
     "metadata": {},
     "output_type": "execute_result"
    }
   ],
   "source": [
    "list(traj_features)"
   ]
  },
  {
   "cell_type": "code",
   "execution_count": 56,
   "metadata": {},
   "outputs": [
    {
     "ename": "NameError",
     "evalue": "name 'workload_in_master_tica' is not defined",
     "output_type": "error",
     "traceback": [
      "\u001b[0;31m---------------------------------------------------------------------------\u001b[0m",
      "\u001b[0;31mNameError\u001b[0m                                 Traceback (most recent call last)",
      "\u001b[0;32m<ipython-input-56-577ef218e886>\u001b[0m in \u001b[0;36m<module>\u001b[0;34m\u001b[0m\n\u001b[0;32m----> 1\u001b[0;31m \u001b[0mlen\u001b[0m\u001b[0;34m(\u001b[0m\u001b[0mworkload_in_master_tica\u001b[0m\u001b[0;34m)\u001b[0m\u001b[0;34m\u001b[0m\u001b[0;34m\u001b[0m\u001b[0m\n\u001b[0m",
      "\u001b[0;31mNameError\u001b[0m: name 'workload_in_master_tica' is not defined"
     ]
    }
   ],
   "source": [
    "len(workload_in_master_tica)"
   ]
  },
  {
   "cell_type": "code",
   "execution_count": 127,
   "metadata": {},
   "outputs": [
    {
     "data": {
      "text/plain": [
       "(6001, 20)"
      ]
     },
     "execution_count": 127,
     "metadata": {},
     "output_type": "execute_result"
    }
   ],
   "source": [
    "workload_in_master_tica[0].shape"
   ]
  },
  {
   "cell_type": "code",
   "execution_count": null,
   "metadata": {},
   "outputs": [],
   "source": [
    "workload_colors = cmap(plt.Normalize()(list(range(\n",
    "    workload_in_master_tica[0].shape[0]))))"
   ]
  },
  {
   "cell_type": "code",
   "execution_count": 129,
   "metadata": {},
   "outputs": [
    {
     "data": {
      "text/plain": [
       "16"
      ]
     },
     "execution_count": 129,
     "metadata": {},
     "output_type": "execute_result"
    }
   ],
   "source": [
    "len(workload_colors)"
   ]
  },
  {
   "cell_type": "code",
   "execution_count": 50,
   "metadata": {},
   "outputs": [],
   "source": [
    "\n",
    "master = \"ltj\"\n",
    "\n",
    "as_workflows = [\n",
    "    (\"invca\", \"xma_Ca_3\"),\n",
    "    (\"invca\", \"umi_Ca_3\"),\n",
    "]\n",
    "\n",
    "wkf_in_ref = dict({\n",
    "    master: {\n",
    "        \"tica\": dict(),\n",
    "        \"disc\": dict(),\n",
    "    }\n",
    "})\n",
    "\n",
    "\n",
    "for asw in as_workflows:\n",
    "\n",
    "    feat, nm = asw\n",
    "\n",
    "    w = all_models[feat][nm]\n",
    "    ntj = w[\"n_trajs\"]\n",
    "    feature_data = traj_features[asw]\n",
    "\n",
    "    master_tica = aswa_tools.get_matching_input(\n",
    "        all_models[feat][master][\"tica\"],\n",
    "        key=\"lag\",\n",
    "        val=chosen_tica_lag,\n",
    "    )\n",
    "\n",
    "    if \n",
    "    \n",
    "    workflow_in_master_tica = {\n",
    "        k: v.transform(feature_data)\n",
    "        for k, v in master_tica.items()\n",
    "    }\n",
    "\n",
    "    n_workloads = list(\n",
    "        {k: int(len(v) / ntj)\n",
    "         for k, v in workflow_in_master_tica.items()}.values()\n",
    "    )[0]\n",
    "\n",
    "    master_in_master_tica = {\n",
    "        k: np.concatenate(v.get_output([0, 1])) for k, v in master_tica.items()\n",
    "    }\n",
    "    \n",
    "    \n",
    "    break"
   ]
  },
  {
   "cell_type": "code",
   "execution_count": 51,
   "metadata": {},
   "outputs": [
    {
     "data": {
      "text/plain": [
       "{'ltj': TICA(commute_map=False, dim=20, epsilon=1e-06, kinetic_map=True, lag=1000,\n",
       "    ncov_max=inf, reversible=True, skip=0, stride=1, var_cutoff=0.95,\n",
       "    weights=None)}"
      ]
     },
     "execution_count": 51,
     "metadata": {},
     "output_type": "execute_result"
    }
   ],
   "source": [
    "master_tica"
   ]
  },
  {
   "cell_type": "code",
   "execution_count": null,
   "metadata": {},
   "outputs": [],
   "source": []
  }
 ],
 "metadata": {
  "kernelspec": {
   "display_name": "Python 3",
   "language": "python",
   "name": "python3"
  },
  "language_info": {
   "codemirror_mode": {
    "name": "ipython",
    "version": 3
   },
   "file_extension": ".py",
   "mimetype": "text/x-python",
   "name": "python",
   "nbconvert_exporter": "python",
   "pygments_lexer": "ipython3",
   "version": "3.7.3"
  }
 },
 "nbformat": 4,
 "nbformat_minor": 4
}
