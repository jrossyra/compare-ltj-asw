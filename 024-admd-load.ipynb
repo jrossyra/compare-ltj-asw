{
 "cells": [
  {
   "cell_type": "markdown",
   "metadata": {},
   "source": [
    "## <center>Loading data from AdaptiveMD workflow</center>"
   ]
  },
  {
   "cell_type": "markdown",
   "metadata": {},
   "source": [
    "##### MUST SHARE KERNEL WITH NOTEBOOK `00-load-data.ipynb`"
   ]
  },
  {
   "cell_type": "markdown",
   "metadata": {},
   "source": [
    "------------"
   ]
  },
  {
   "cell_type": "markdown",
   "metadata": {},
   "source": [
    "#### Import AdaptiveMD"
   ]
  },
  {
   "cell_type": "code",
   "execution_count": 40,
   "metadata": {},
   "outputs": [],
   "source": [
    "import time\n",
    "\n",
    "import adaptivemd as amd"
   ]
  },
  {
   "cell_type": "markdown",
   "metadata": {},
   "source": [
    "-------------"
   ]
  },
  {
   "cell_type": "markdown",
   "metadata": {},
   "source": [
    "- Select only datasets with AdaptiveMD database"
   ]
  },
  {
   "cell_type": "code",
   "execution_count": 41,
   "metadata": {},
   "outputs": [],
   "source": [
    "w_with_mongo = lambda: list(\n",
    "    filter(lambda d: \"database\" in d[-1], aswa_tools.iter_models(all_models))\n",
    ")\n",
    "\n",
    "n_mongos = len(w_with_mongo())"
   ]
  },
  {
   "cell_type": "markdown",
   "metadata": {},
   "source": [
    "-------------"
   ]
  },
  {
   "cell_type": "markdown",
   "metadata": {},
   "source": [
    "- Load the TICA data computed from each round of adaptive sampling"
   ]
  },
  {
   "cell_type": "code",
   "execution_count": 42,
   "metadata": {},
   "outputs": [],
   "source": [
    "n_evecs = 10\n",
    "\n",
    "for f, w, d in w_with_mongo():\n",
    "    dbpath = \"/\".join([d[\"directory\"], d[\"database\"]])\n",
    "    mongo = aswa.MongoInstance(dbpath)\n",
    "    mongo.open_mongodb()\n",
    "    time.sleep(3)\n",
    "    p = amd.Project(d[\"projectname\"], cfg=\"summit\")\n",
    "\n",
    "    d[\"workflowresults\"] = wr = dict()\n",
    "    wr[\"tica\"] = wrticas = list()\n",
    "\n",
    "    # DEBUG if there is no data showing up\n",
    "    # uncomment break - check projname in\n",
    "    # datasetup.py is correct!! for example\n",
    "    # break\n",
    "    # print([s for s in p.storage.stores])\n",
    "    for m in sorted(p.models, key=lambda m: m.__time__):\n",
    "        wrticas.append(\n",
    "            {\n",
    "                \"lag\": m.data[\"tica\"][\"lagtime\"],\n",
    "                \"evecs\": m.data[\"tica\"][\"eigenvectors\"],\n",
    "            }\n",
    "        )\n",
    "        # print(\"hello\")\n",
    "\n",
    "    mongo.stop_mongodb()"
   ]
  },
  {
   "cell_type": "markdown",
   "metadata": {},
   "source": [
    "----------------"
   ]
  },
  {
   "cell_type": "markdown",
   "metadata": {},
   "source": [
    "#### $\\infty$ DONE\n",
    "-------"
   ]
  },
  {
   "cell_type": "code",
   "execution_count": 43,
   "metadata": {},
   "outputs": [
    {
     "name": "stdout",
     "output_type": "stream",
     "text": [
      "\u001b[100m\u001b[34m  DONE LOADING DATA  \n"
     ]
    }
   ],
   "source": [
    "print(colorama.Back.LIGHTBLACK_EX + colorama.Fore.BLUE + \"  DONE LOADING DATA  \")"
   ]
  },
  {
   "cell_type": "markdown",
   "metadata": {},
   "source": [
    "----------\n",
    "-----------"
   ]
  },
  {
   "cell_type": "markdown",
   "metadata": {},
   "source": [
    "----------\n",
    "-----------"
   ]
  },
  {
   "cell_type": "markdown",
   "metadata": {},
   "source": [
    "----------\n",
    "-----------"
   ]
  },
  {
   "cell_type": "markdown",
   "metadata": {},
   "source": [
    "----------\n",
    "-----------"
   ]
  },
  {
   "cell_type": "markdown",
   "metadata": {},
   "source": [
    "----------\n",
    "-----------"
   ]
  },
  {
   "cell_type": "markdown",
   "metadata": {},
   "source": [
    "----------\n",
    "-----------"
   ]
  },
  {
   "cell_type": "markdown",
   "metadata": {},
   "source": [
    "----------\n",
    "-----------"
   ]
  },
  {
   "cell_type": "code",
   "execution_count": 44,
   "metadata": {
    "jupyter": {
     "source_hidden": true
    }
   },
   "outputs": [
    {
     "data": {
      "text/plain": [
       "'\\nticklabelformat = lambda num: \"{:.3f}\".format(num).rstrip(\"0\").rstrip(\".\")\\nworkflow_ASdistribution = os.path.join(workflow_figs, \"ASDistribution/{0}-{1}-{2}.png\")\\n# >>>># 6.1- Frame selection probabilities for each AS round on TICA landscape:\\n# for wnm in notmaster(aa):\\nSDs = dict()\\nfor wnm in {\"XMa-3\"}:\\n    SDs[wnm] = sds = dict()\\n    w = a[wnm]\\n    nw = nworkloads(w)\\n    dbpath = w[\"database\"]\\n    mongo = aswa.MongoInstance(dbpath)\\n    # mongo = MongoInstance(dbpath)\\n    mongo.open_mongodb()\\n    time.sleep(10)\\n    project = adaptivemd.Project(w[\"projectname\"])\\n    ttrajs = w[\"ttrajs\"]\\n    dtrajs = np.array(w[\"dtrajs\"])\\n    Ms = list(project.models.sorted(lambda m: m.__time__))\\n    for I, (r_start, r_stop) in enumerate(workflowpartition(w)):\\n        sds[I] = sdl = list()\\n        XY = np.concatenate([ttj[:, :2].T for ttj in ttrajs[r_start:r_stop]], axis=1)\\n        dta = np.concatenate(dtrajs[r_start:r_stop])\\n        M = Ms[I]\\n        for i in range(1):\\n            # for i in range(3):\\n            fig, ax = tica_01_landscape(\\n                dict(\\n                    title=\"AS Round {} Sampling Distribution on Anton TICA Landscape\".format(\\n                        I\\n                    )\\n                )\\n            )\\n            Z = np.zeros(XY.shape[1])\\n            sd = aswa.calc_xma_distribution(M)\\n            sdl.append(sd)\\n            # sd = calc_xma_distribution(M)\\n            for mi in range(M[\"clustering\"][\"k\"]):\\n                Z[dta == mi] = sd[mi]\\n            print(Z)\\n            print(Z / np.max(Z))\\n            maxprobability = np.max(Z)\\n            Z /= maxprobability\\n            sortedidx = np.argsort(Z)\\n            cbticks = {\\n                0: \"0\",\\n                0.5: ticklabelformat(maxprobability / 2),\\n                1: ticklabelformat(maxprobability),\\n            }\\n            sc = ax.scatter(\\n                *XY[:, sortedidx], c=Z[sortedidx], vmin=0, vmax=maxprobability, s=1\\n            )\\n            cb = fig.colorbar(sc, ticks=list(cbticks.keys()))\\n            cb.set_label(\"Adaptive Sampling Probability\")\\n            cb.ax.set_yticklabels(list(cbticks.values()))\\n            savefig(workflow_ASdistribution.format(wnm, I, i), dpi=600)\\n            plt.close()\\n    mongo.stop_mongodb()\\n'"
      ]
     },
     "execution_count": 44,
     "metadata": {},
     "output_type": "execute_result"
    }
   ],
   "source": [
    "'''\n",
    "ticklabelformat = lambda num: \"{:.3f}\".format(num).rstrip(\"0\").rstrip(\".\")\n",
    "workflow_ASdistribution = os.path.join(workflow_figs, \"ASDistribution/{0}-{1}-{2}.png\")\n",
    "# >>>># 6.1- Frame selection probabilities for each AS round on TICA landscape:\n",
    "# for wnm in notmaster(aa):\n",
    "SDs = dict()\n",
    "for wnm in {\"XMa-3\"}:\n",
    "    SDs[wnm] = sds = dict()\n",
    "    w = a[wnm]\n",
    "    nw = nworkloads(w)\n",
    "    dbpath = w[\"database\"]\n",
    "    mongo = aswa.MongoInstance(dbpath)\n",
    "    # mongo = MongoInstance(dbpath)\n",
    "    mongo.open_mongodb()\n",
    "    time.sleep(10)\n",
    "    project = adaptivemd.Project(w[\"projectname\"])\n",
    "    ttrajs = w[\"ttrajs\"]\n",
    "    dtrajs = np.array(w[\"dtrajs\"])\n",
    "    Ms = list(project.models.sorted(lambda m: m.__time__))\n",
    "    for I, (r_start, r_stop) in enumerate(workflowpartition(w)):\n",
    "        sds[I] = sdl = list()\n",
    "        XY = np.concatenate([ttj[:, :2].T for ttj in ttrajs[r_start:r_stop]], axis=1)\n",
    "        dta = np.concatenate(dtrajs[r_start:r_stop])\n",
    "        M = Ms[I]\n",
    "        for i in range(1):\n",
    "            # for i in range(3):\n",
    "            fig, ax = tica_01_landscape(\n",
    "                dict(\n",
    "                    title=\"AS Round {} Sampling Distribution on Anton TICA Landscape\".format(\n",
    "                        I\n",
    "                    )\n",
    "                )\n",
    "            )\n",
    "            Z = np.zeros(XY.shape[1])\n",
    "            sd = aswa.calc_xma_distribution(M)\n",
    "            sdl.append(sd)\n",
    "            # sd = calc_xma_distribution(M)\n",
    "            for mi in range(M[\"clustering\"][\"k\"]):\n",
    "                Z[dta == mi] = sd[mi]\n",
    "            print(Z)\n",
    "            print(Z / np.max(Z))\n",
    "            maxprobability = np.max(Z)\n",
    "            Z /= maxprobability\n",
    "            sortedidx = np.argsort(Z)\n",
    "            cbticks = {\n",
    "                0: \"0\",\n",
    "                0.5: ticklabelformat(maxprobability / 2),\n",
    "                1: ticklabelformat(maxprobability),\n",
    "            }\n",
    "            sc = ax.scatter(\n",
    "                *XY[:, sortedidx], c=Z[sortedidx], vmin=0, vmax=maxprobability, s=1\n",
    "            )\n",
    "            cb = fig.colorbar(sc, ticks=list(cbticks.keys()))\n",
    "            cb.set_label(\"Adaptive Sampling Probability\")\n",
    "            cb.ax.set_yticklabels(list(cbticks.values()))\n",
    "            savefig(workflow_ASdistribution.format(wnm, I, i), dpi=600)\n",
    "            plt.close()\n",
    "    mongo.stop_mongodb()\n",
    "'''"
   ]
  }
 ],
 "metadata": {
  "kernelspec": {
   "display_name": "Python 3",
   "language": "python",
   "name": "python3"
  },
  "language_info": {
   "codemirror_mode": {
    "name": "ipython",
    "version": 3
   },
   "file_extension": ".py",
   "mimetype": "text/x-python",
   "name": "python",
   "nbconvert_exporter": "python",
   "pygments_lexer": "ipython3",
   "version": "3.7.3"
  }
 },
 "nbformat": 4,
 "nbformat_minor": 4
}
