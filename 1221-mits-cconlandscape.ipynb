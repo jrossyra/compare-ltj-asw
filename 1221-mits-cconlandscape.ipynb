{
 "cells": [
  {
   "cell_type": "markdown",
   "metadata": {},
   "source": [
    "## A look at each workflow's final MSMs"
   ]
  },
  {
   "cell_type": "markdown",
   "metadata": {},
   "source": [
    "-----------\n",
    "#### Plots for big-picture look for each dataset and model pipeline\n",
    "- Cluster (state) centers on tica landscape\n",
    "- MSM implied timescales for selecting model on bottom"
   ]
  },
  {
   "cell_type": "code",
   "execution_count": null,
   "metadata": {
    "jupyter": {}
   },
   "outputs": [],
   "source": [
    "for feat, nm, dataset in aswa_tools.iter_models(all_models):\n",
    "\n",
    "    try:\n",
    "        tica_inp = np.array(\n",
    "            np.concatenate(\n",
    "                aswa_tools.get_matching_input(\n",
    "                    dataset[\"tica\"], key=\"lag\", val=chosen_tica_lag\n",
    "                ).get_output(list(range(2)))\n",
    "            )\n",
    "        )\n",
    "    except AttributeError:\n",
    "        continue\n",
    "\n",
    "    for clust_method, setups in dataset[\"its\"].items():\n",
    "\n",
    "        n_configs = len(setups)\n",
    "\n",
    "        if not n_configs:\n",
    "            continue\n",
    "\n",
    "        fig, axes = plt.subplots(\n",
    "            2, n_configs, figsize=(6 * n_configs, 12), sharey=\"row\"\n",
    "        )\n",
    "\n",
    "        for i, setup in enumerate(setups):\n",
    "\n",
    "            clustercenters = aswa_tools.get_matching_input(\n",
    "                dataset[\"cluster_%s\" % clust_method],\n",
    "                key=setup[\"par\"][0],\n",
    "                val=setup[\"par\"][1],\n",
    "            ).clustercenters\n",
    "\n",
    "            pyemma.plots.plot_free_energy(\n",
    "                # pyemma.plots.plot_density(\n",
    "                *tica_inp.T,\n",
    "                cbar=False,\n",
    "                alpha=0.8,\n",
    "                ax=axes[0][i],\n",
    "                logscale=True,\n",
    "                cmap=\"RdYlGn_r\",\n",
    "            )\n",
    "\n",
    "            seaborn.scatterplot(\n",
    "                x=clustercenters[:, 0],\n",
    "                y=clustercenters[:, 1],\n",
    "                s=35,\n",
    "                ax=axes[0][i],\n",
    "                legend=False,\n",
    "                color=\"blue\",\n",
    "                linewidth=0,\n",
    "            )\n",
    "            plot_title = \"%s: %d clusters\" % (clust_method, clustercenters.shape[0])\n",
    "\n",
    "            if \"regspace\" in clust_method:\n",
    "                plot_title += \", %0.2f dmin\" % setup[\"par\"][1]\n",
    "\n",
    "            axes[0][i].set_title(plot_title)\n",
    "            axes[0][i].set_xlabel(\"TIC 1\")\n",
    "            axes[1][i].set_ylim([0.5, 500])\n",
    "\n",
    "            if i == 0:\n",
    "                axes[0][i].set_ylabel(\"TIC 2\")\n",
    "\n",
    "            pyemma.plots.plot_implied_timescales(\n",
    "                pyemma.load(setup[\"result\"])\n",
    "                if isinstance(setup[\"result\"], (str, Path))\n",
    "                else setup[\"result\"],\n",
    "                ax=axes[1][i],\n",
    "                units=\"ns\",\n",
    "                dt=0.02,\n",
    "            )\n",
    "\n",
    "            if i > 0:\n",
    "                axes[1][i].yaxis.label.set_visible(False)\n",
    "                # axes[2,i].yaxis.label.set_visible(False)\n",
    "\n",
    "            # break  # to run faster while prototyping\n",
    "\n",
    "        plt.suptitle(\n",
    "            \"%s: MSMs in %d-TICA space, %s features\" % (nm, n_tica_dim, feat),\n",
    "            fontsize=22,\n",
    "        )\n",
    "        fig.tight_layout(rect=[0, 0, 1, 0.95])\n",
    "        plt.savefig(\n",
    "            \"analyses/%s/msm/its_%s-%s-TICA01landscapewithCC.png\"\n",
    "            % (nm, clust_method, feat),\n",
    "            dpi=300,\n",
    "        )"
   ]
  },
  {
   "cell_type": "markdown",
   "metadata": {},
   "source": [
    "-----------------"
   ]
  },
  {
   "cell_type": "code",
   "execution_count": null,
   "metadata": {
    "jupyter": {}
   },
   "outputs": [],
   "source": [
    "placement = [\n",
    "    # Clockwise w/ lower middle as ITS plot\n",
    "    # there are luckily 5 lags/models per ITS\n",
    "    [1, 0],\n",
    "    [0, 0],\n",
    "    [0, 1],\n",
    "    [0, 2],\n",
    "    [1, 2],\n",
    "]\n",
    "\n",
    "for feat, nm, dataset in aswa_tools.iter_models(all_models):\n",
    "\n",
    "    try:\n",
    "        tica_inp = np.array(\n",
    "            np.concatenate(\n",
    "                aswa_tools.get_matching_input(\n",
    "                    dataset[\"tica\"], key=\"lag\", val=chosen_tica_lag\n",
    "                ).get_output(list(range(2)))\n",
    "            )\n",
    "        )\n",
    "    except AttributeError:\n",
    "        continue\n",
    "\n",
    "    for clust_method, setups in dataset[\"its\"].items():\n",
    "\n",
    "        n_configs = len(setups)\n",
    "\n",
    "        if not n_configs:\n",
    "            continue\n",
    "\n",
    "        fig, axes = plt.subplots(\n",
    "            2, n_configs, figsize=(6 * n_configs, 12), sharey=\"row\"\n",
    "        )\n",
    "\n",
    "        for i, setup in enumerate(setups):\n",
    "\n",
    "            eigvec = setup[\"result\"].eigenvectors_right()\n",
    "\n",
    "            cluster = aswa_tools.get_matching_input(\n",
    "                dataset[\"cluster_%s\" % clust_method],\n",
    "                key=setup[\"par\"][0],\n",
    "                val=setup[\"par\"][1],\n",
    "            )\n",
    "\n",
    "            pyemma.plots.plot_contour(\n",
    "                *tica_inp.T,\n",
    "                eigvec[cluster.dtrajs[0], i + 1],\n",
    "                ax=axes[0][m],\n",
    "                cmap=\"PiYG\",\n",
    "                # cbar_label='{}. right eigenvector'.format(i + 2),\n",
    "                mask=True,\n",
    "            )\n",
    "\n",
    "            #           _, _, misc = pyemma.plots.plot_state_map(\n",
    "            #              *tica_inp.T,\n",
    "            #             eigvec = msm.eigenvectors_right(),\n",
    "            #            ax=axes[0][m],\n",
    "            #           cbar=True if m+1 == len(\n",
    "            #              setup[\"result\"].models) else False,\n",
    "            #     )\n",
    "            #\n",
    "            #   pyemma.plots.plot_free_energy(\n",
    "            #    #pyemma.plots.plot_density(\n",
    "            #         *tica_inp.T,\n",
    "            #          cbar=False,\n",
    "            #           alpha=0.8,\n",
    "            #            ax=axes[0][i],\n",
    "            #             logscale=True,\n",
    "            #              cmap=\"RdYlGn_r\",\n",
    "            #           )\n",
    "\n",
    "            seaborn.scatterplot(\n",
    "                x=cluster.clustercenters[:, 0],\n",
    "                y=cluster.clustercenters[:, 1],\n",
    "                s=35,\n",
    "                ax=axes[0][i],\n",
    "                legend=False,\n",
    "                color=\"blue\",\n",
    "                linewidth=0,\n",
    "            )\n",
    "            plot_title = \"%s: %d clusters\" % (\n",
    "                clust_method,\n",
    "                cluster.clustercenters.shape[0],\n",
    "            )\n",
    "\n",
    "            if \"regspace\" in clust_method:\n",
    "                plot_title += \", %0.2f dmin\" % setup[\"par\"][1]\n",
    "\n",
    "            axes[0][i].set_title(plot_title)\n",
    "            axes[0][i].set_xlabel(\"TIC 1\")\n",
    "            axes[1][i].set_ylim([0.5, 500])\n",
    "\n",
    "            if i == 0:\n",
    "                axes[0][i].set_ylabel(\"TIC 2\")\n",
    "\n",
    "            pyemma.plots.plot_implied_timescales(\n",
    "                pyemma.load(setup[\"result\"])\n",
    "                if isinstance(setup[\"result\"], (str, Path))\n",
    "                else setup[\"result\"],\n",
    "                ax=axes[1][i],\n",
    "                units=\"ns\",\n",
    "                dt=0.02,\n",
    "            )\n",
    "\n",
    "            if i > 0:\n",
    "                axes[1][i].yaxis.label.set_visible(False)\n",
    "                # axes[2,i].yaxis.label.set_visible(False)\n",
    "\n",
    "            # break  # to run faster while prototyping\n",
    "\n",
    "        plt.suptitle(\n",
    "            \"%s: MSMs in %d-TICA space, %s features\" % (nm, n_tica_dim, feat),\n",
    "            fontsize=22,\n",
    "        )\n",
    "        fig.tight_layout(rect=[0, 0, 1, 0.95])\n",
    "        plt.savefig(\n",
    "            \"analyses/%s/msm/its_%s-%s-MSMprocesswithCC.png\" % (nm, clust_method, feat),\n",
    "            dpi=600,\n",
    "        )"
   ]
  },
  {
   "cell_type": "markdown",
   "metadata": {},
   "source": [
    "-----------------"
   ]
  },
  {
   "cell_type": "markdown",
   "metadata": {},
   "source": [
    "-----------------"
   ]
  },
  {
   "cell_type": "markdown",
   "metadata": {},
   "source": [
    "-----------------"
   ]
  },
  {
   "cell_type": "markdown",
   "metadata": {},
   "source": [
    "-----------------"
   ]
  },
  {
   "cell_type": "markdown",
   "metadata": {},
   "source": [
    "-----------------"
   ]
  },
  {
   "cell_type": "markdown",
   "metadata": {},
   "source": [
    "-----------------"
   ]
  },
  {
   "cell_type": "markdown",
   "metadata": {},
   "source": [
    "-----------------"
   ]
  },
  {
   "cell_type": "markdown",
   "metadata": {},
   "source": [
    "-----------------"
   ]
  }
 ],
 "metadata": {
  "kernelspec": {
   "display_name": "Python 3",
   "language": "python",
   "name": "python3"
  },
  "language_info": {
   "codemirror_mode": {
    "name": "ipython",
    "version": 3
   },
   "file_extension": ".py",
   "mimetype": "text/x-python",
   "name": "python",
   "nbconvert_exporter": "python",
   "pygments_lexer": "ipython3",
   "version": "3.7.3"
  }
 },
 "nbformat": 4,
 "nbformat_minor": 4
}
