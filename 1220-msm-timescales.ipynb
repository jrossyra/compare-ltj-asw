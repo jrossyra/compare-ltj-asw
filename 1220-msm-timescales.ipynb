{
 "cells": [
  {
   "cell_type": "markdown",
   "metadata": {},
   "source": [
    "## Simple plots of final MSM properties"
   ]
  },
  {
   "cell_type": "markdown",
   "metadata": {},
   "source": [
    "-------------------\n",
    " - Plot setup for this notebook"
   ]
  },
  {
   "cell_type": "code",
   "execution_count": null,
   "metadata": {
    "jupyter": {}
   },
   "outputs": [],
   "source": [
    "n_timescales = 4\n",
    "cc2 = list(get_hls_palette(n_timescales))"
   ]
  },
  {
   "cell_type": "markdown",
   "metadata": {},
   "source": [
    "--------------------\n",
    "#### Implied Timescales from final MSMs"
   ]
  },
  {
   "cell_type": "code",
   "execution_count": null,
   "metadata": {
    "jupyter": {}
   },
   "outputs": [],
   "source": [
    "for feat, nm, dataset in aswa_tools.iter_models(all_models):\n",
    "\n",
    "    for clust_method, setups in dataset[\"its\"].items():\n",
    "\n",
    "        n_configs = len(setups)\n",
    "        if not n_configs:\n",
    "            continue\n",
    "\n",
    "        fig, axes = plt.subplots(\n",
    "            1, n_configs, figsize=(6 * n_configs, 8), sharey=\"row\", squeeze=False\n",
    "        )\n",
    "\n",
    "        for i, setup in enumerate(setups):\n",
    "\n",
    "            try:\n",
    "                setup[\"result\"] = (\n",
    "                    pyemma.load(setup[\"result\"])\n",
    "                    if isinstance(setup[\"result\"], (str, Path))\n",
    "                    else setup[\"result\"]\n",
    "                )\n",
    "            except:\n",
    "                continue\n",
    "\n",
    "            #         plot_title = \"\"\n",
    "            clustering = aswa_tools.get_matching_input(\n",
    "                dataset[\"cluster_%s\" % clust_method], *setup[\"par\"]\n",
    "            )\n",
    "\n",
    "            plot_title = \"%s: %d clusters\" % (\n",
    "                clust_method,\n",
    "                clustering.clustercenters.shape[0],\n",
    "            )\n",
    "\n",
    "            if \"regspace\" in clust_method:\n",
    "                plot_title += \", %0.2f dmin\" % setup[\"par\"][1]\n",
    "\n",
    "            axes[0][i].set_title(plot_title)\n",
    "            axes[0][i].set_xlabel(\"MSM Lag [ns]\")\n",
    "\n",
    "            if i == 0:\n",
    "                axes[0][i].set_ylabel(\"Timescales [ns]\")\n",
    "\n",
    "            for j, ts in enumerate(\n",
    "                (\n",
    "                    pyemma.load(setup[\"result\"])\n",
    "                    if isinstance(setup[\"result\"], (str, Path))\n",
    "                    else setup[\"result\"]\n",
    "                ).timescales\n",
    "            ):\n",
    "                axes[0][i].scatter(\n",
    "                    x=[j for _ in list(range(ts.shape[0]))[:n_timescales]],\n",
    "                    y=ts[:n_timescales] / step_per_ns[label_longtraj],\n",
    "                    c=cc2[:n_timescales],\n",
    "                    s=130,\n",
    "                )\n",
    "\n",
    "            if i > 0:\n",
    "                axes[0][i].yaxis.label.set_visible(False)\n",
    "                # axes[2,i].yaxis.label.set_visible(False)\n",
    "\n",
    "            axes[0][i].set_xticks(range(j + 1))\n",
    "            axes[0][i].set_xticklabels(\n",
    "                [\n",
    "                    (\n",
    "                        \"%.2f\"\n",
    "                        % (setup[\"result\"].models[J].lag / step_per_ns[label_longtraj])\n",
    "                        if setup[\"result\"].models[J].lag / step_per_ns[label_longtraj]\n",
    "                        < 1\n",
    "                        else \"%d\"\n",
    "                        % (setup[\"result\"].models[J].lag / step_per_ns[label_longtraj])\n",
    "                    )\n",
    "                    for J in range(j + 1)\n",
    "                ],\n",
    "                # rotation=45,\n",
    "            )\n",
    "\n",
    "        patches = [\n",
    "            plt.Line2D(\n",
    "                range(1),\n",
    "                range(1),\n",
    "                color=\"w\",\n",
    "                markerfacecolor=c,\n",
    "                label=\"ts #%d\" % (1 + k),\n",
    "                marker=\"o\",\n",
    "                markersize=12,\n",
    "            )\n",
    "            for k, c in enumerate(cc2[:n_timescales])\n",
    "        ]\n",
    "\n",
    "        axes[0][-1].legend(\n",
    "            handles=patches,\n",
    "            loc=\"upper left\",\n",
    "            fontsize=16,\n",
    "            #    ncol=2,\n",
    "            #    handlelength=0.5,\n",
    "        )\n",
    "        plt.suptitle(\n",
    "            \"%s: MSM ITS, in %d-TICA space, %s\" % (nm, n_tica_dim, feat),\n",
    "            fontsize=21,\n",
    "        )\n",
    "        fig.tight_layout(rect=[0, 0, 1, 0.95])\n",
    "        plt.savefig(\"analyses/%s/msm/its_%s-%s.png\" % (nm, clust_method, feat), dpi=300)"
   ]
  },
  {
   "cell_type": "markdown",
   "metadata": {},
   "source": [
    "-------------"
   ]
  },
  {
   "cell_type": "markdown",
   "metadata": {},
   "source": [
    "-------------"
   ]
  },
  {
   "cell_type": "markdown",
   "metadata": {},
   "source": [
    "-------------"
   ]
  },
  {
   "cell_type": "markdown",
   "metadata": {},
   "source": [
    "-------------"
   ]
  },
  {
   "cell_type": "markdown",
   "metadata": {},
   "source": [
    "-------------"
   ]
  },
  {
   "cell_type": "markdown",
   "metadata": {},
   "source": [
    "-------------"
   ]
  },
  {
   "cell_type": "markdown",
   "metadata": {},
   "source": [
    "-------------"
   ]
  },
  {
   "cell_type": "markdown",
   "metadata": {},
   "source": [
    "-------------"
   ]
  },
  {
   "cell_type": "markdown",
   "metadata": {},
   "source": [
    "-------------"
   ]
  },
  {
   "cell_type": "markdown",
   "metadata": {},
   "source": [
    "-------------"
   ]
  },
  {
   "cell_type": "markdown",
   "metadata": {},
   "source": [
    "-------------"
   ]
  },
  {
   "cell_type": "markdown",
   "metadata": {},
   "source": [
    "-------------"
   ]
  },
  {
   "cell_type": "markdown",
   "metadata": {},
   "source": [
    "-------------"
   ]
  }
 ],
 "metadata": {
  "kernelspec": {
   "display_name": "Python 3",
   "language": "python",
   "name": "python3"
  },
  "language_info": {
   "codemirror_mode": {
    "name": "ipython",
    "version": 3
   },
   "file_extension": ".py",
   "mimetype": "text/x-python",
   "name": "python",
   "nbconvert_exporter": "python",
   "pygments_lexer": "ipython3",
   "version": "3.7.3"
  }
 },
 "nbformat": 4,
 "nbformat_minor": 4
}
