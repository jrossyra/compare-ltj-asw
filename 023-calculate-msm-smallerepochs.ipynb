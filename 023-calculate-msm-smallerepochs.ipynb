{
 "cells": [
  {
   "cell_type": "markdown",
   "metadata": {},
   "source": [
    "##### MUST SHARE KERNEL WITH NOTEBOOK `00-load-data.ipynb`"
   ]
  },
  {
   "cell_type": "markdown",
   "metadata": {},
   "source": [
    "## Calculate MSMs from growing portions of long trajectory\n",
    "------------"
   ]
  },
  {
   "cell_type": "markdown",
   "metadata": {},
   "source": [
    "--------------------\n",
    " \n",
    "INCOMPLETE TODO FIXME the second loop is basically hardcoded for kmeans"
   ]
  },
  {
   "cell_type": "markdown",
   "metadata": {},
   "source": [
    "----------"
   ]
  },
  {
   "cell_type": "markdown",
   "metadata": {},
   "source": [
    "#### Calculate MSMs"
   ]
  },
  {
   "cell_type": "markdown",
   "metadata": {},
   "source": [
    "----------"
   ]
  },
  {
   "cell_type": "code",
   "execution_count": null,
   "metadata": {},
   "outputs": [],
   "source": [
    "thiscalc = \"mits\"\n",
    "inpcalc = \"kmeans\"\n",
    "sst = False\n",
    "\n",
    "for (\n",
    "    wname, disc, (_nma,nma), (_tl,tica_lag),\n",
    "    (_k,k), (_ml, msm_lag), (_hl,hmm_lag),\n",
    ") in good_ones:\n",
    "\n",
    "    dataset = all_models[feat][wname]\n",
    "    fcalc   = result_basepath(wname, thiscalc)\n",
    "    # these are either-ors in a step,\n",
    "    # like how you can have ITS storing\n",
    "    # the MSMs in MSM step so either works\n",
    "    #  - in this case they are the same models\n",
    "    #  - other case can replace different\n",
    "    #    types of models\n",
    "    #inpkwargs = get_calc_kwargs(inpcalc)\n",
    "    #inpbes = correctone(dataset[inpcalc],\n",
    "    #    *inpkwargs)[\"byepochsize\"]\n",
    "    inpbes = correctone(dataset[inpcalc], _k, k)[\"byepochsize\"]\n",
    "    setup = correctone(dataset[thiscalc], _ml, msm_lag)\n",
    "    setup[\"byepochsize\"] = besetups= list()\n",
    "\n",
    "    for ibes in inpbes:\n",
    "        \n",
    "        besetup = dict()\n",
    "        besetup[\"timer\"] = timer = Timer(description=True, verbose=True)\n",
    "        besetup[\"kwargs\"] = setup[\"kwargs\"]\n",
    "        besetup[\"input\"] = ibes          \n",
    "        besetup[\"epochsize\"] = ibes[\"epochsize\"]\n",
    "        besetup[\"hash\"] = thisone = _thisone_mits(feat, besetup)\n",
    "        \n",
    "        fbes = fcalc.with_suffix(f\".{thisone}\")\n",
    "\n",
    "        if fbes.is_file():\n",
    "            print(is1+f\"Loading File:{rreset} {thisone}\")\n",
    "            with timer(yellowback+blacktxt+time_loadfile+rreset):\n",
    "                result = pyemma.load(fbes)\n",
    "                \n",
    "        else:\n",
    "            print(f\"{is1}Calculating & Saving:{rreset} {thisone}\")\n",
    "            try:\n",
    "                inp = ibes[\"result\"].dtrajs\n",
    "                with timer(yellowback+blacktxt+time_calculation+rreset):\n",
    "                    result = pyemma.msm.timescales_msm(\n",
    "                        inp, **besetup[\"kwargs\"])\n",
    "\n",
    "                result.save(fbes, save_streaming_chain=sst)\n",
    "            \n",
    "            resmatrix = ImpliedTimescalesMatrix(\n",
    "                result, n_macrostates, msm_lags)\n",
    "            besetup[\"result\"] = resmatrix\n",
    "            dmits.append(curmits)"
   ]
  },
  {
   "cell_type": "markdown",
   "metadata": {},
   "source": [
    "----------"
   ]
  },
  {
   "cell_type": "markdown",
   "metadata": {},
   "source": [
    "#### $\\infty$ DONE\n",
    "-------"
   ]
  },
  {
   "cell_type": "code",
   "execution_count": null,
   "metadata": {},
   "outputs": [],
   "source": [
    "print(dn1+\"  DONE LOADING DATA  \")"
   ]
  },
  {
   "cell_type": "markdown",
   "metadata": {},
   "source": [
    "----------"
   ]
  },
  {
   "cell_type": "markdown",
   "metadata": {},
   "source": [
    "----------"
   ]
  }
 ],
 "metadata": {
  "kernelspec": {
   "display_name": "Python 3",
   "language": "python",
   "name": "python3"
  },
  "language_info": {
   "codemirror_mode": {
    "name": "ipython",
    "version": 3
   },
   "file_extension": ".py",
   "mimetype": "text/x-python",
   "name": "python",
   "nbconvert_exporter": "python",
   "pygments_lexer": "ipython3",
   "version": "3.7.3"
  }
 },
 "nbformat": 4,
 "nbformat_minor": 4
}
