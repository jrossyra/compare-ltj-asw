{
 "cells": [
  {
   "cell_type": "markdown",
   "metadata": {},
   "source": [
    "## <center>Setup for making models from smaller epochs of the data</center>"
   ]
  },
  {
   "cell_type": "markdown",
   "metadata": {},
   "source": [
    "##### MUST SHARE KERNEL WITH NOTEBOOK `00-load-data.ipynb`"
   ]
  },
  {
   "cell_type": "markdown",
   "metadata": {},
   "source": [
    "#### TICA by epochsize setup\n",
    "- it's not really by epochsize, the total MD used in increasing\n",
    "\n",
    "------------------------"
   ]
  },
  {
   "cell_type": "markdown",
   "metadata": {},
   "source": [
    "- get a list of epoch sizes manually created\n",
    "  - the full data will be used when plotting\n",
    "  \n",
    "- only doing this from truncated versions of longtraj"
   ]
  },
  {
   "cell_type": "code",
   "execution_count": 26,
   "metadata": {},
   "outputs": [],
   "source": [
    "epochsizes = [\n",
    "    int(step_per_ns[label_longtraj]*es)\n",
    "    for es in [\n",
    "        500, 1000, 2000, 4000, 8000, 12000,\n",
    "        16000, 20000, 24000, 28000, 32000,\n",
    "        36000, 40000, 44000, 48000, 52000,\n",
    "        56000, 60000, 64000, 68000, 72000,\n",
    "        76000, 80000, 84000, 88000, 92000,\n",
    "        96000, 100000, 104000, 108000,\n",
    "        112000, 116000, 120000, 124000,\n",
    "        128000, 132000, 136000,\n",
    "]][::1]\n",
    "\n",
    "min_good_lag = 100"
   ]
  },
  {
   "cell_type": "code",
   "execution_count": 27,
   "metadata": {},
   "outputs": [
    {
     "name": "stdout",
     "output_type": "stream",
     "text": [
      "\u001b[46mGot the data primed\n"
     ]
    }
   ],
   "source": [
    "good_lag_ones = list(filter(\n",
    "    lambda x: x[2][\"kwargs\"][\n",
    "        \"lag\"]>=min_good_lag,\n",
    "    [(feat,wnm,y)\n",
    "     for feat in all_models\n",
    "     for wnm in (\"ltj\",\"umi_Ca_3\")\n",
    "     for y in all_models[feat][wnm][\"tica\"]]\n",
    "    #all_models[feat][nm][\"tica\"]\n",
    "))\n",
    "\n",
    "print(colorama.Back.CYAN+\"Got the data primed\")"
   ]
  },
  {
   "cell_type": "markdown",
   "metadata": {},
   "source": [
    "---------"
   ]
  },
  {
   "cell_type": "markdown",
   "metadata": {},
   "source": [
    "#### HMM / downstream modeling by epochsize setup\n",
    "------------------------"
   ]
  },
  {
   "cell_type": "markdown",
   "metadata": {},
   "source": [
    "- get a list of epoch sizes manually created for the TICA dim reductions"
   ]
  },
  {
   "cell_type": "code",
   "execution_count": 28,
   "metadata": {},
   "outputs": [
    {
     "name": "stdout",
     "output_type": "stream",
     "text": [
      "\u001b[46mParameters chosen\n"
     ]
    }
   ],
   "source": [
    "good_ones = [\n",
    "    # These hook onto the simple interface based transitions\n",
    "    #\n",
    "    # NOTE THAT NO HMM IS MADE from these trajs, it's just a\n",
    "    # regular MSM with 2 states. Cannot have hidden states if\n",
    "    # we're already the N macrostates we want from outset...\n",
    "    #\n",
    "    # Could make HMMs out of multiple interface dtrajs\n",
    "    # - maybe revert to CG MSM eventually and just specify how\n",
    "    #   the CG model was made...\n",
    "    (\"ltj\",    \"2-state\", (\"nstates\", 2),     (None,None), (None,None), (\"hmm_lag\", 2), ),\n",
    "    (\"ltj\",    \"2-state\", (\"nstates\", 2),     (None,None), (None,None), (\"hmm_lag\", 10), ),\n",
    "    (\"ltj\",    \"2-state\", (\"nstates\", 2),     (None,None), (None,None), (\"hmm_lag\", 50), ),\n",
    "    (\"ltj\",    \"2-state\", (\"nstates\", 2),     (None,None), (None,None), (\"hmm_lag\", 250), ),\n",
    "    \n",
    "    # These bind to regular upstream modeling parameters\n",
    "    (\"ltj\",    \"kmeans\", (\"nstates\", 2), (\"tica_lag\", 1000), (\"k\", 75), (\"hmm_lag\", 2), ),\n",
    "    (\"ltj\",    \"kmeans\", (\"nstates\", 2), (\"tica_lag\", 1000), (\"k\", 75), (\"hmm_lag\", 10), ),\n",
    "    (\"ltj\",    \"kmeans\", (\"nstates\", 2), (\"tica_lag\", 1000), (\"k\", 75), (\"hmm_lag\", 50), ),\n",
    "    (\"ltj\",    \"kmeans\", (\"nstates\", 2), (\"tica_lag\", 1000), (\"k\", 75), (\"hmm_lag\", 250), ),\n",
    "    \n",
    "    (\"ltj\",    \"kmeans\", (\"nstates\", 2), (\"tica_lag\", 1000), (\"k\", 300),(\"hmm_lag\", 2), ),\n",
    "    (\"ltj\",    \"kmeans\", (\"nstates\", 2), (\"tica_lag\", 1000), (\"k\", 300),(\"hmm_lag\", 10), ),\n",
    "    (\"ltj\",    \"kmeans\", (\"nstates\", 2), (\"tica_lag\", 1000), (\"k\", 300),(\"hmm_lag\", 50), ),\n",
    "    (\"ltj\",    \"kmeans\", (\"nstates\", 2), (\"tica_lag\", 1000), (\"k\", 300),(\"hmm_lag\", 250), ),\n",
    "    \n",
    "    (\"ltj\",    \"kmeans\", (\"nstates\", 2), (\"tica_lag\", 1000), (\"k\", 600),(\"hmm_lag\", 2), ),\n",
    "    (\"ltj\",    \"kmeans\", (\"nstates\", 2), (\"tica_lag\", 1000), (\"k\", 600),(\"hmm_lag\", 10), ),\n",
    "    (\"ltj\",    \"kmeans\", (\"nstates\", 2), (\"tica_lag\", 1000), (\"k\", 600),(\"hmm_lag\", 50), ),\n",
    "    (\"ltj\",    \"kmeans\", (\"nstates\", 2), (\"tica_lag\", 1000), (\"k\", 600),(\"hmm_lag\", 250), ),\n",
    "    \n",
    "    (\"umi_Ca_3\", \"kmeans\", (\"nstates\", 2), (\"tica_lag\", 1000), (\"k\", 75), (\"hmm_lag\", 2), ),\n",
    "    (\"umi_Ca_3\", \"kmeans\", (\"nstates\", 2), (\"tica_lag\", 1000), (\"k\", 75), (\"hmm_lag\", 10), ),\n",
    "    (\"umi_Ca_3\", \"kmeans\", (\"nstates\", 2), (\"tica_lag\", 1000), (\"k\", 75), (\"hmm_lag\", 50), ),\n",
    "    (\"umi_Ca_3\", \"kmeans\", (\"nstates\", 2), (\"tica_lag\", 1000), (\"k\", 75), (\"hmm_lag\", 250), ),\n",
    "    \n",
    "    (\"umi_Ca_3\", \"kmeans\", (\"nstates\", 2), (\"tica_lag\", 1000), (\"k\", 300), (\"hmm_lag\", 2), ),\n",
    "    (\"umi_Ca_3\", \"kmeans\", (\"nstates\", 2), (\"tica_lag\", 1000), (\"k\", 300), (\"hmm_lag\", 10), ),\n",
    "    (\"umi_Ca_3\", \"kmeans\", (\"nstates\", 2), (\"tica_lag\", 1000), (\"k\", 300), (\"hmm_lag\", 50), ),\n",
    "    (\"umi_Ca_3\", \"kmeans\", (\"nstates\", 2), (\"tica_lag\", 1000), (\"k\", 300), (\"hmm_lag\", 250), ),\n",
    "    \n",
    "    (\"umi_Ca_3\", \"kmeans\", (\"nstates\", 2), (\"tica_lag\", 1000), (\"k\", 600), (\"hmm_lag\", 2), ),\n",
    "    (\"umi_Ca_3\", \"kmeans\", (\"nstates\", 2), (\"tica_lag\", 1000), (\"k\", 600), (\"hmm_lag\", 10), ),\n",
    "    (\"umi_Ca_3\", \"kmeans\", (\"nstates\", 2), (\"tica_lag\", 1000), (\"k\", 600), (\"hmm_lag\", 50), ),\n",
    "    (\"umi_Ca_3\", \"kmeans\", (\"nstates\", 2), (\"tica_lag\", 1000), (\"k\", 600), (\"hmm_lag\", 250), ),\n",
    "]\n",
    "\n",
    "print(colorama.Back.CYAN+\"Parameters chosen\")"
   ]
  },
  {
   "cell_type": "markdown",
   "metadata": {},
   "source": [
    "---------------"
   ]
  },
  {
   "cell_type": "markdown",
   "metadata": {},
   "source": [
    " - setup for the run-through in following notebooks"
   ]
  },
  {
   "cell_type": "code",
   "execution_count": 29,
   "metadata": {},
   "outputs": [],
   "source": [
    "_good_ones = set(\n",
    "    good_ones)\n",
    "\n",
    "_good_wnms = set(\n",
    "    list(zip(*good_ones))[0])\n",
    "\n",
    "_good_tica_lags = set(\n",
    "    list(zip(*list(zip(\n",
    "    *good_ones))[3]))[1])\n",
    "\n",
    "_good_clust_pars = set(\n",
    "    list(zip(*list(zip(\n",
    "    *good_ones))[4]))[1])\n",
    "\n",
    "_good_hmm_lags = set(\n",
    "    list(zip(*list(zip(\n",
    "    *good_ones))[5]))[1])\n",
    "\n",
    "get_clusts_todo = lambda: set(\n",
    "    zip(*itemgetter(0,3,4)(\n",
    "    list(zip(*good_ones)))))"
   ]
  },
  {
   "cell_type": "markdown",
   "metadata": {},
   "source": [
    "---------------"
   ]
  },
  {
   "cell_type": "markdown",
   "metadata": {},
   "source": [
    "#### $\\infty$ DONE\n",
    "-------"
   ]
  },
  {
   "cell_type": "code",
   "execution_count": 30,
   "metadata": {},
   "outputs": [
    {
     "name": "stdout",
     "output_type": "stream",
     "text": [
      "\u001b[100m\u001b[34m  DONE LOADING DATA  \n"
     ]
    }
   ],
   "source": [
    "print(colorama.Back.LIGHTBLACK_EX + \\\n",
    "      colorama.Fore.BLUE + \\\n",
    "      \"  DONE LOADING DATA  \")"
   ]
  },
  {
   "cell_type": "markdown",
   "metadata": {},
   "source": [
    "--------\n",
    "--------"
   ]
  },
  {
   "cell_type": "markdown",
   "metadata": {},
   "source": [
    "-----------"
   ]
  },
  {
   "cell_type": "markdown",
   "metadata": {},
   "source": [
    "-----------"
   ]
  },
  {
   "cell_type": "markdown",
   "metadata": {},
   "source": [
    "-----------"
   ]
  },
  {
   "cell_type": "markdown",
   "metadata": {},
   "source": [
    "-----------"
   ]
  },
  {
   "cell_type": "markdown",
   "metadata": {},
   "source": [
    "-----------"
   ]
  },
  {
   "cell_type": "markdown",
   "metadata": {},
   "source": [
    "-----------"
   ]
  },
  {
   "cell_type": "markdown",
   "metadata": {},
   "source": [
    "-----------"
   ]
  },
  {
   "cell_type": "markdown",
   "metadata": {},
   "source": [
    "-----------"
   ]
  },
  {
   "cell_type": "markdown",
   "metadata": {},
   "source": [
    "-----------"
   ]
  }
 ],
 "metadata": {
  "kernelspec": {
   "display_name": "Python 3",
   "language": "python",
   "name": "python3"
  },
  "language_info": {
   "codemirror_mode": {
    "name": "ipython",
    "version": 3
   },
   "file_extension": ".py",
   "mimetype": "text/x-python",
   "name": "python",
   "nbconvert_exporter": "python",
   "pygments_lexer": "ipython3",
   "version": "3.7.3"
  }
 },
 "nbformat": 4,
 "nbformat_minor": 4
}
