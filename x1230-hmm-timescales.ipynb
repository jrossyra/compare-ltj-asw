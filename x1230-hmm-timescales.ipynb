{
 "cells": [
  {
   "cell_type": "markdown",
   "metadata": {},
   "source": [
    "## Simple plots of final HMM properties"
   ]
  },
  {
   "cell_type": "markdown",
   "metadata": {},
   "source": [
    "--------------------\n",
    "#### Implied Timescales from final HMMs"
   ]
  },
  {
   "cell_type": "markdown",
   "metadata": {},
   "source": [
    "TODO fix the plot titles to include the clustering info"
   ]
  },
  {
   "cell_type": "code",
   "execution_count": 78,
   "metadata": {
    "jupyter": {
     "source_hidden": true
    }
   },
   "outputs": [
    {
     "name": "stdout",
     "output_type": "stream",
     "text": [
      "\u001b[46mWkf: ltj\n"
     ]
    },
    {
     "ename": "AttributeError",
     "evalue": "'bool' object has no attribute 'models'",
     "output_type": "error",
     "traceback": [
      "\u001b[0;31m---------------------------------------------------------------------------\u001b[0m",
      "\u001b[0;31mAttributeError\u001b[0m                            Traceback (most recent call last)",
      "\u001b[0;32m<ipython-input-78-b45558ecd7f1>\u001b[0m in \u001b[0;36m<module>\u001b[0;34m\u001b[0m\n\u001b[1;32m     17\u001b[0m             \u001b[0mclustpars\u001b[0m\u001b[0;34m.\u001b[0m\u001b[0madd\u001b[0m\u001b[0;34m(\u001b[0m\u001b[0msetup\u001b[0m\u001b[0;34m[\u001b[0m\u001b[0;34m\"par\"\u001b[0m\u001b[0;34m]\u001b[0m\u001b[0;34m[\u001b[0m\u001b[0;36m0\u001b[0m\u001b[0;34m]\u001b[0m\u001b[0;34m[\u001b[0m\u001b[0;36m1\u001b[0m\u001b[0;34m]\u001b[0m\u001b[0;34m)\u001b[0m\u001b[0;34m\u001b[0m\u001b[0;34m\u001b[0m\u001b[0m\n\u001b[1;32m     18\u001b[0m         \u001b[0;32melse\u001b[0m\u001b[0;34m:\u001b[0m\u001b[0;34m\u001b[0m\u001b[0;34m\u001b[0m\u001b[0m\n\u001b[0;32m---> 19\u001b[0;31m             \u001b[0mnmodels\u001b[0m \u001b[0;34m=\u001b[0m \u001b[0mlen\u001b[0m\u001b[0;34m(\u001b[0m\u001b[0msetup\u001b[0m\u001b[0;34m[\u001b[0m\u001b[0;34m\"result\"\u001b[0m\u001b[0;34m]\u001b[0m\u001b[0;34m.\u001b[0m\u001b[0mmodels\u001b[0m\u001b[0;34m)\u001b[0m\u001b[0;34m\u001b[0m\u001b[0;34m\u001b[0m\u001b[0m\n\u001b[0m\u001b[1;32m     20\u001b[0m \u001b[0;34m\u001b[0m\u001b[0m\n\u001b[1;32m     21\u001b[0m         \u001b[0mcc2\u001b[0m \u001b[0;34m=\u001b[0m \u001b[0mget_hls_palette\u001b[0m\u001b[0;34m(\u001b[0m\u001b[0;36m10\u001b[0m\u001b[0;34m)\u001b[0m  \u001b[0;31m# setups[-1][\"result\"].models[-1].shape[0])\u001b[0m\u001b[0;34m\u001b[0m\u001b[0;34m\u001b[0m\u001b[0m\n",
      "\u001b[0;31mAttributeError\u001b[0m: 'bool' object has no attribute 'models'"
     ]
    }
   ],
   "source": [
    "for feat, nm, dataset in filter(\n",
    "    lambda x: (x[1] in [\"umi_Ca_3\", \"ltj\"]) and (x[0] in [feat_Ca]),\n",
    "    aswa_tools.iter_models(all_models),\n",
    "):\n",
    "    print(colorama.Back.CYAN + \"Wkf: %s\" % (nm))\n",
    "\n",
    "    for clust_method, setups in filter(\n",
    "        lambda x: x[0] in [\"kmeans\", \"regspace\"], dataset[\"hits\"].items()\n",
    "    ):\n",
    "        n_configs = len(setups)\n",
    "        if not n_configs: continue\n",
    "        clustpars = set()\n",
    "\n",
    "        for setup in filter(\n",
    "            lambda s: setup[\"result\"], setups\n",
    "        ):\n",
    "            clustpars.add(setup[\"par\"][0][1])\n",
    "        else:\n",
    "            nmodels = len(setup[\"result\"].models)\n",
    "\n",
    "        cc2 = get_hls_palette(10)  # setups[-1][\"result\"].models[-1].shape[0])\n",
    "\n",
    "        for p in sorted(clustpars):\n",
    "\n",
    "            fig, axes = plt.subplots(\n",
    "                1,  # int(n_configs/len(clustpars)),\n",
    "                nmodels,\n",
    "                figsize=(\n",
    "                    5 * nmodels,\n",
    "                    # 6*int(n_configs/len(clustpars))),\n",
    "                    6,\n",
    "                ),\n",
    "                sharey=\"row\",\n",
    "                squeeze=False,\n",
    "            )\n",
    "\n",
    "            for i, setup in enumerate(\n",
    "                sorted(\n",
    "                    filter(lambda x: x[\"par\"][0][1] == p,\n",
    "                           filter(lambda s: setup[\"result\"],\n",
    "                                  setups)\n",
    "                          ),\n",
    "                    key=lambda x: x[\"par\"][1][1],\n",
    "                )\n",
    "            ):\n",
    "\n",
    "                plot_title = \"\"\n",
    "                #         plot_title = \"%s: %d clusters\" % (\n",
    "                #            clust_method, clustercenters.shape[0])\n",
    "\n",
    "                if \"regspace\" in clust_method:\n",
    "                    plot_title += \", %0.2f dmin\" % setup[\"par\"][0][1]\n",
    "\n",
    "                axes[0][i].set_title(plot_title)\n",
    "                axes[0][i].set_xlabel(\"MSM Lag [ns]\")\n",
    "\n",
    "                if i == 0:\n",
    "                    axes[0][i].set_ylabel(\"Timescales [ns]\")\n",
    "\n",
    "                for j, ts in enumerate(\n",
    "                    (\n",
    "                        pyemma.load(setup[\"result\"])\n",
    "                        if isinstance(setup[\"result\"], (str, Path))\n",
    "                        else setup[\"result\"]\n",
    "                    ).timescales\n",
    "                ):\n",
    "\n",
    "                    axes[0][i].scatter(\n",
    "                        x=[j for _ in list(range(ts.shape[0]))],\n",
    "                        y=ts / step_per_ns[label_longtraj],\n",
    "                        c=cc2[i],\n",
    "                        s=130,\n",
    "                    )\n",
    "\n",
    "                if i > 0:\n",
    "                    axes[0][i].yaxis.label.set_visible(False)\n",
    "                    # axes[2,i].yaxis.label.set_visible(False)\n",
    "\n",
    "                axes[0][i].set_xticks(range(j + 1))\n",
    "                axes[0][i].set_xticklabels(\n",
    "                    [\n",
    "                        (\n",
    "                            \"%.2f\"\n",
    "                            % (\n",
    "                                setup[\"result\"].models[J].lag\n",
    "                                / step_per_ns[label_longtraj]\n",
    "                            )\n",
    "                            if setup[\"result\"].models[J].lag\n",
    "                            / step_per_ns[label_longtraj]\n",
    "                            < 1\n",
    "                            else \"%d\"\n",
    "                            % (\n",
    "                                setup[\"result\"].models[J].lag\n",
    "                                / step_per_ns[label_longtraj]\n",
    "                            )\n",
    "                        )\n",
    "                        for J in range(j + 1)\n",
    "                    ],\n",
    "                    # rotation=45,\n",
    "                )\n",
    "\n",
    "            patches = [\n",
    "                plt.Line2D(\n",
    "                    range(1),\n",
    "                    range(1),\n",
    "                    color=\"w\",\n",
    "                    markerfacecolor=c,\n",
    "                    label=\"ts #%d\" % (1 + k),\n",
    "                    marker=\"o\",\n",
    "                    markersize=12,\n",
    "                )\n",
    "                for k, c in enumerate(reversed(cc2))\n",
    "            ]\n",
    "\n",
    "            axes[0][-1].legend(\n",
    "                handles=patches,\n",
    "                loc=\"upper left\",\n",
    "                fontsize=16,\n",
    "                #    ncol=2,\n",
    "                #    handlelength=0.5,\n",
    "            )\n",
    "            plt.suptitle(\n",
    "                \"%s: MSM ITS, in %d-TICA space, %s\" % (nm, n_tica_dim, feat),\n",
    "                fontsize=21,\n",
    "            )\n",
    "            fig.tight_layout(rect=[0, 0, 1, 0.95])\n",
    "            plt.savefig(\n",
    "                \"analyses/%s/msm/its_%s-%s.png\" % (nm, clust_method, feat), dpi=300\n",
    "            )"
   ]
  },
  {
   "cell_type": "markdown",
   "metadata": {},
   "source": [
    "-------------"
   ]
  },
  {
   "cell_type": "markdown",
   "metadata": {},
   "source": [
    "-------------"
   ]
  },
  {
   "cell_type": "markdown",
   "metadata": {},
   "source": [
    "-------------"
   ]
  },
  {
   "cell_type": "markdown",
   "metadata": {},
   "source": [
    "-------------"
   ]
  },
  {
   "cell_type": "markdown",
   "metadata": {},
   "source": [
    "-------------"
   ]
  },
  {
   "cell_type": "markdown",
   "metadata": {},
   "source": [
    "-------------"
   ]
  },
  {
   "cell_type": "markdown",
   "metadata": {},
   "source": [
    "-------------"
   ]
  },
  {
   "cell_type": "markdown",
   "metadata": {},
   "source": [
    "-------------"
   ]
  },
  {
   "cell_type": "markdown",
   "metadata": {},
   "source": [
    "-------------"
   ]
  },
  {
   "cell_type": "markdown",
   "metadata": {},
   "source": [
    "-------------"
   ]
  },
  {
   "cell_type": "markdown",
   "metadata": {},
   "source": [
    "-------------"
   ]
  },
  {
   "cell_type": "markdown",
   "metadata": {},
   "source": [
    "-------------"
   ]
  },
  {
   "cell_type": "markdown",
   "metadata": {},
   "source": [
    "-------------"
   ]
  }
 ],
 "metadata": {
  "kernelspec": {
   "display_name": "Python 3",
   "language": "python",
   "name": "python3"
  },
  "language_info": {
   "codemirror_mode": {
    "name": "ipython",
    "version": 3
   },
   "file_extension": ".py",
   "mimetype": "text/x-python",
   "name": "python",
   "nbconvert_exporter": "python",
   "pygments_lexer": "ipython3",
   "version": "3.7.3"
  }
 },
 "nbformat": 4,
 "nbformat_minor": 4
}
